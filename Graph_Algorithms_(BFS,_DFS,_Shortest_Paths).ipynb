{
  "cells": [
    {
      "cell_type": "code",
      "execution_count": 5,
      "id": "e9cd3af3",
      "metadata": {
        "colab": {
          "base_uri": "https://localhost:8080/"
        },
        "id": "e9cd3af3",
        "outputId": "9552bd02-fe9b-499c-f35b-3cc931346528"
      },
      "outputs": [
        {
          "output_type": "stream",
          "name": "stdout",
          "text": [
            "\u001b[?25l\r\u001b[K     |████▊                           | 10 kB 30.6 MB/s eta 0:00:01\r\u001b[K     |█████████▌                      | 20 kB 33.8 MB/s eta 0:00:01\r\u001b[K     |██████████████▎                 | 30 kB 42.9 MB/s eta 0:00:01\r\u001b[K     |███████████████████             | 40 kB 36.6 MB/s eta 0:00:01\r\u001b[K     |███████████████████████▉        | 51 kB 41.0 MB/s eta 0:00:01\r\u001b[K     |████████████████████████████▋   | 61 kB 45.6 MB/s eta 0:00:01\r\u001b[K     |████████████████████████████████| 68 kB 8.0 MB/s \n",
            "\u001b[?25h  Building wheel for uuid (setup.py) ... \u001b[?25l\u001b[?25hdone\n"
          ]
        }
      ],
      "source": [
        "!pip install jovian --upgrade -q\n",
        "import jovian\n",
        "jovian.set_project('python-graph-algorithms')\n",
        "jovian.set_colab_id('1AX8FvvqSxhALPXmqwL134tXhfRAY9RWX')"
      ]
    },
    {
      "cell_type": "markdown",
      "id": "polyphonic-brisbane",
      "metadata": {
        "id": "polyphonic-brisbane"
      },
      "source": [
        "## Graphs in the Real World\n",
        "\n",
        "### Railway network\n",
        "\n",
        "![](https://i.imgur.com/uSF6AEJ.png)\n",
        "\n",
        "### Flight routes\n",
        "\n",
        "![](https://www.mapsales.com/products/mapsofworld/images/zoom/world-air-route-wall-map.gif)\n",
        "\n",
        "### Hyperlinks\n",
        "\n",
        "![](https://i.imgur.com/hlGDYn2.png)"
      ]
    },
    {
      "cell_type": "markdown",
      "id": "stretch-superior",
      "metadata": {
        "id": "stretch-superior"
      },
      "source": [
        "## Graph Data Strucutre\n",
        "\n",
        "![](https://i.imgur.com/xkgMnwx.png)\n",
        "\n"
      ]
    },
    {
      "cell_type": "markdown",
      "id": "white-outdoors",
      "metadata": {
        "id": "white-outdoors"
      },
      "source": [
        "### Adjacency Lists\n",
        "\n",
        "![](https://i.imgur.com/rgMwkIW.png)\n",
        "\n",
        "\n",
        "> **Question**: Create a class to represent a graph as an adjacency list in Python"
      ]
    },
    {
      "cell_type": "code",
      "execution_count": 4,
      "id": "viral-pendant",
      "metadata": {
        "id": "viral-pendant",
        "colab": {
          "base_uri": "https://localhost:8080/"
        },
        "outputId": "b4d3ba52-3d9e-4216-980d-5c062df634e0"
      },
      "outputs": [
        {
          "output_type": "stream",
          "name": "stdout",
          "text": [
            "Vertex 0: -> 3 -> 2 -> 1 \n",
            "\n",
            "Vertex 1: -> 2 -> 0 \n",
            "\n",
            "Vertex 2: -> 1 -> 0 \n",
            "\n",
            "Vertex 3: -> 0 \n",
            "\n",
            "Vertex 4: \n",
            "\n"
          ]
        }
      ],
      "source": [
        "# Adjascency List representation in Python\n",
        "class AdjNode:\n",
        "    def __init__(self, value):\n",
        "        self.vertex = value\n",
        "        self.next = None\n",
        "\n",
        "class Graph:\n",
        "    def __init__(self, num):\n",
        "        self.V = num\n",
        "        self.graph = [None] * self.V\n",
        "\n",
        "    # Add edges\n",
        "    def add_edge(self, s, d):\n",
        "        node = AdjNode(d)\n",
        "        node.next = self.graph[s]\n",
        "        self.graph[s] = node\n",
        "\n",
        "        node = AdjNode(s)\n",
        "        node.next = self.graph[d]\n",
        "        self.graph[d] = node\n",
        "\n",
        "    # Print the graph\n",
        "    def print_agraph(self):\n",
        "        for i in range(self.V):\n",
        "            print(\"Vertex \" + str(i) + \":\", end=\"\")\n",
        "            temp = self.graph[i]\n",
        "            while temp:\n",
        "                print(\" -> {}\".format(temp.vertex), end=\"\")\n",
        "                temp = temp.next\n",
        "            print(\" \\n\")\n",
        "\n",
        "if __name__ == \"__main__\":\n",
        "    V = 5\n",
        "\n",
        "    # Create graph and edges\n",
        "    graph = Graph(V)\n",
        "    graph.add_edge(0, 1)\n",
        "    graph.add_edge(0, 2)\n",
        "    graph.add_edge(0, 3)\n",
        "    graph.add_edge(1, 2)\n",
        "\n",
        "    graph.print_agraph()"
      ]
    },
    {
      "cell_type": "markdown",
      "id": "english-action",
      "metadata": {
        "id": "english-action"
      },
      "source": [
        "> **Question**: Write a function to add an edge to a graph represented as an adjacency list. \n",
        "\n",
        "> **Question**: Write a function to remove an edge from a graph represented as a adjacency list.\n"
      ]
    },
    {
      "cell_type": "code",
      "execution_count": null,
      "id": "signed-manor",
      "metadata": {
        "id": "signed-manor"
      },
      "outputs": [],
      "source": [
        "    # Add edges\n",
        "    def add_edge(self, v1, v2):\n",
        "        if v1 == v2:\n",
        "            print(\"Same vertex %d and %d\" % (v1, v2))\n",
        "        self.adjMatrix[v1][v2] = 1\n",
        "        self.adjMatrix[v2][v1] = 1\n",
        "\n",
        "    # Remove edges\n",
        "    def remove_edge(self, v1, v2):\n",
        "        if self.adjMatrix[v1][v2] == 0:\n",
        "            print(\"No edge between %d and %d\" % (v1, v2))\n",
        "            return\n",
        "        self.adjMatrix[v1][v2] = 0\n",
        "        self.adjMatrix[v2][v1] = 0\n",
        "\n",
        "    def __len__(self):\n",
        "        return self.size"
      ]
    },
    {
      "cell_type": "markdown",
      "id": "potential-native",
      "metadata": {
        "id": "potential-native"
      },
      "source": [
        "### Adjacency Matrix\n",
        "\n",
        "![](https://i.imgur.com/oswYKTW.png)\n",
        "\n",
        "> **Question**: Represent a graph as an adjacency matrix in Python"
      ]
    },
    {
      "cell_type": "code",
      "execution_count": 3,
      "id": "common-gossip",
      "metadata": {
        "id": "common-gossip",
        "colab": {
          "base_uri": "https://localhost:8080/"
        },
        "outputId": "7e93ca07-c2eb-4a97-8b60-5c4dac17257c"
      },
      "outputs": [
        {
          "output_type": "stream",
          "name": "stdout",
          "text": [
            "   0\n",
            "   1\n",
            "   1\n",
            "   0\n",
            "   0\n",
            "   1\n",
            "   0\n",
            "   1\n",
            "   0\n",
            "   0\n",
            "   1\n",
            "   1\n",
            "   0\n",
            "   1\n",
            "   0\n",
            "   0\n",
            "   0\n",
            "   1\n",
            "   0\n",
            "   0\n",
            "   0\n",
            "   0\n",
            "   0\n",
            "   0\n",
            "   0\n"
          ]
        }
      ],
      "source": [
        "# Adjacency Matrix representation in Python\n",
        "class Graph(object):\n",
        "    # Initialize the matrix\n",
        "    def __init__(self, size):\n",
        "        self.adjMatrix = []\n",
        "        for i in range(size):\n",
        "            self.adjMatrix.append([0 for i in range(size)])\n",
        "        self.size = size\n",
        "\n",
        "    # Add edges\n",
        "    def add_edge(self, v1, v2):\n",
        "        if v1 == v2:\n",
        "            print(\"Same vertex %d and %d\" % (v1, v2))\n",
        "        self.adjMatrix[v1][v2] = 1\n",
        "        self.adjMatrix[v2][v1] = 1\n",
        "\n",
        "    # Remove edges\n",
        "    def remove_edge(self, v1, v2):\n",
        "        if self.adjMatrix[v1][v2] == 0:\n",
        "            print(\"No edge between %d and %d\" % (v1, v2))\n",
        "            return\n",
        "        self.adjMatrix[v1][v2] = 0\n",
        "        self.adjMatrix[v2][v1] = 0\n",
        "\n",
        "    def __len__(self):\n",
        "        return self.size\n",
        "\n",
        "    # Print the matrix\n",
        "    def print_matrix(self):\n",
        "        for row in self.adjMatrix:\n",
        "            for val in row:\n",
        "                print('{:4}'.format(val)),\n",
        "            print\n",
        "\n",
        "\n",
        "def main():\n",
        "    g = Graph(5)\n",
        "    g.add_edge(0, 1)\n",
        "    g.add_edge(0, 2)\n",
        "    g.add_edge(1, 2)\n",
        "    g.add_edge(2, 0)\n",
        "    g.add_edge(2, 3)\n",
        "\n",
        "    g.print_matrix()\n",
        "\n",
        "\n",
        "if __name__ == '__main__':\n",
        "    main()"
      ]
    },
    {
      "cell_type": "markdown",
      "id": "spatial-howard",
      "metadata": {
        "id": "spatial-howard"
      },
      "source": [
        "## Graph Traversal\n",
        "\n",
        "\n",
        "### Breadth-First Search\n",
        "\n",
        "A real-world graph:\n",
        "\n",
        "![](https://upload.wikimedia.org/wikipedia/commons/thumb/a/ad/MapGermanyGraph.svg/500px-MapGermanyGraph.svg.png)\n",
        "\n",
        "Breadth-fist search tree (starting from Frankfurt):\n",
        "\n",
        "![](https://upload.wikimedia.org/wikipedia/commons/thumb/6/63/GermanyBFS.svg/500px-GermanyBFS.svg.png)\n",
        "\n",
        "> **Question**: Implement breadth-first search given a source node in a graph using Python.\n",
        "\n",
        "\n",
        "<img src=\"https://i.imgur.com/E2Up1Pk.png\" width=\"400\">\n",
        "\n",
        "BFS pseudocode (Wikipedia):\n",
        "\n",
        "```\n",
        " 1  procedure BFS(G, root) is\n",
        " 2      let Q be a queue\n",
        " 3      label root as discovered\n",
        " 4      Q.enqueue(root)\n",
        " 5      while Q is not empty do\n",
        " 6          v := Q.dequeue()\n",
        " 7          if v is the goal then\n",
        " 8              return v\n",
        " 9          for all edges from v to w in G.adjacentEdges(v) do\n",
        "10              if w is not labeled as discovered then\n",
        "11                  label w as discovered\n",
        "12                  Q.enqueue(w)\n",
        "```\n",
        "\n"
      ]
    },
    {
      "cell_type": "code",
      "execution_count": null,
      "id": "electoral-religious",
      "metadata": {
        "id": "electoral-religious"
      },
      "outputs": [],
      "source": []
    },
    {
      "cell_type": "markdown",
      "id": "czech-encounter",
      "metadata": {
        "id": "czech-encounter"
      },
      "source": [
        "<img src=\"https://cdn.programiz.com/sites/tutorial2program/files/queue-implementation.png\" width=\"400\">"
      ]
    },
    {
      "cell_type": "markdown",
      "id": "synthetic-defense",
      "metadata": {
        "id": "synthetic-defense"
      },
      "source": [
        "> **Question**: Write a program to check if all the nodes in a graph are connected\n",
        "\n",
        "![](http://www.martinbroadhurst.com/images/connected_components.png)"
      ]
    },
    {
      "cell_type": "code",
      "execution_count": null,
      "id": "premium-cincinnati",
      "metadata": {
        "colab": {
          "base_uri": "https://localhost:8080/"
        },
        "id": "premium-cincinnati",
        "outputId": "1534a36f-d4a2-4234-9752-e34306a4282f"
      },
      "outputs": [
        {
          "output_type": "execute_result",
          "data": {
            "text/plain": [
              "(9, 8)"
            ]
          },
          "metadata": {},
          "execution_count": 2
        }
      ],
      "source": [
        "num_nodes3 = 9\n",
        "edges3 = [(0, 1), (0, 3), (1, 2), (2, 3), (4, 5), (4, 6), (5, 6), (7, 8)]\n",
        "num_nodes3, len(edges3)"
      ]
    },
    {
      "cell_type": "markdown",
      "id": "parliamentary-veteran",
      "metadata": {
        "id": "parliamentary-veteran"
      },
      "source": [
        "## Depth-first search\n",
        "\n",
        "![](https://upload.wikimedia.org/wikipedia/commons/thumb/7/7f/Depth-First-Search.gif/440px-Depth-First-Search.gif)\n",
        "\n",
        "\n",
        "> **Question**: Implement depth first search from a given node in a graph using Python.\n",
        "\n",
        "<img src=\"https://i.imgur.com/E2Up1Pk.png\" width=\"400\">\n",
        "\n",
        "DFS pseudocode (Wikipedia):\n",
        "\n",
        "```\n",
        "procedure DFS_iterative(G, v) is\n",
        "    let S be a stack\n",
        "    S.push(v)\n",
        "    while S is not empty do\n",
        "        v = S.pop()\n",
        "        if v is not labeled as discovered then\n",
        "            label v as discovered\n",
        "            for all edges from v to w in G.adjacentEdges(v) do \n",
        "                S.push(w)\n",
        "```\n",
        "\n",
        "\n"
      ]
    },
    {
      "cell_type": "markdown",
      "id": "descending-amber",
      "metadata": {
        "id": "descending-amber"
      },
      "source": [
        "<img src=\"https://cdn.programiz.com/sites/tutorial2program/files/stack.png\" width=\"400\">"
      ]
    },
    {
      "cell_type": "markdown",
      "id": "together-blogger",
      "metadata": {
        "id": "together-blogger"
      },
      "source": [
        "> **Question**: Write a function to detect a cycle in a graph\n",
        "\n",
        "![](https://tutorialspoint.dev/image/cycleGraph.png)"
      ]
    },
    {
      "cell_type": "code",
      "source": [
        "from collections import defaultdict\n",
        "\n",
        "class Graph():\n",
        "\tdef __init__(self,vertices):\n",
        "\t\tself.graph = defaultdict(list)\n",
        "\t\tself.V = vertices\n",
        "\n",
        "\tdef addEdge(self,u,v):\n",
        "\t\tself.graph[u].append(v)\n",
        "\n",
        "\tdef isCyclicUtil(self, v, visited, recStack):\n",
        "\n",
        "\t\t# Mark current node as visited and\n",
        "\t\t# adds to recursion stack\n",
        "\t\tvisited[v] = True\n",
        "\t\trecStack[v] = True\n",
        "\n",
        "\t\t# Recur for all neighbours\n",
        "\t\t# if any neighbour is visited and in\n",
        "\t\t# recStack then graph is cyclic\n",
        "\t\tfor neighbour in self.graph[v]:\n",
        "\t\t\tif visited[neighbour] == False:\n",
        "\t\t\t\tif self.isCyclicUtil(neighbour, visited, recStack) == True:\n",
        "\t\t\t\t\treturn True\n",
        "\t\t\telif recStack[neighbour] == True:\n",
        "\t\t\t\treturn True\n",
        "\n",
        "\t\t# The node needs to be popped from\n",
        "\t\t# recursion stack before function ends\n",
        "\t\trecStack[v] = False\n",
        "\t\treturn False\n",
        "\n",
        "\t# Returns true if graph is cyclic else false\n",
        "\tdef isCyclic(self):\n",
        "\t\tvisited = [False] * (self.V + 1)\n",
        "\t\trecStack = [False] * (self.V + 1)\n",
        "\t\tfor node in range(self.V):\n",
        "\t\t\tif visited[node] == False:\n",
        "\t\t\t\tif self.isCyclicUtil(node,visited,recStack) == True:\n",
        "\t\t\t\t\treturn True\n",
        "\t\treturn False\n",
        "\n",
        "g = Graph(4)\n",
        "g.addEdge(0, 1)\n",
        "g.addEdge(0, 2)\n",
        "g.addEdge(1, 2)\n",
        "g.addEdge(2, 0)\n",
        "g.addEdge(2, 3)\n",
        "g.addEdge(3, 3)\n",
        "if g.isCyclic() == 1:\n",
        "\tprint (\"Graph has a cycle\")\n",
        "else:\n",
        "\tprint (\"Graph has no cycle\")\n"
      ],
      "metadata": {
        "colab": {
          "base_uri": "https://localhost:8080/"
        },
        "id": "GLtKy6kxLO8C",
        "outputId": "d7258e46-bfbf-48fd-8ac8-8361823b6448"
      },
      "id": "GLtKy6kxLO8C",
      "execution_count": 2,
      "outputs": [
        {
          "output_type": "stream",
          "name": "stdout",
          "text": [
            "Graph has a cycle\n"
          ]
        }
      ]
    },
    {
      "cell_type": "markdown",
      "id": "broke-carroll",
      "metadata": {
        "id": "broke-carroll"
      },
      "source": [
        "### Weighted Graphs\n",
        "\n",
        "![](https://i.imgur.com/wy7ZHRW.png)\n",
        "\n"
      ]
    },
    {
      "cell_type": "code",
      "execution_count": null,
      "id": "eligible-equipment",
      "metadata": {
        "colab": {
          "base_uri": "https://localhost:8080/"
        },
        "id": "eligible-equipment",
        "outputId": "486c579d-cceb-4d92-deaf-0378430a83b3"
      },
      "outputs": [
        {
          "output_type": "execute_result",
          "data": {
            "text/plain": [
              "(9, 10)"
            ]
          },
          "metadata": {},
          "execution_count": 3
        }
      ],
      "source": [
        "# Graph with weights\n",
        "num_nodes5 = 9\n",
        "edges5 = [(0, 1, 3), (0, 3, 2), (0, 8, 4), (1, 7, 4), (2, 7, 2), (2, 3, 6), \n",
        "          (2, 5, 1), (3, 4, 1), (4, 8, 8), (5, 6, 8)]\n",
        "\n",
        "num_nodes5, len(edges5)"
      ]
    },
    {
      "cell_type": "markdown",
      "id": "abstract-return",
      "metadata": {
        "id": "abstract-return"
      },
      "source": [
        "### Directed Graphs\n",
        "\n",
        "<img src=\"https://i.imgur.com/8AN7EUV.png\" width=\"480\">"
      ]
    },
    {
      "cell_type": "code",
      "execution_count": null,
      "id": "fitted-kruger",
      "metadata": {
        "colab": {
          "base_uri": "https://localhost:8080/"
        },
        "id": "fitted-kruger",
        "outputId": "81b7e2e2-0ef3-4e26-ce8d-28691d986c84"
      },
      "outputs": [
        {
          "output_type": "execute_result",
          "data": {
            "text/plain": [
              "(5, 6)"
            ]
          },
          "metadata": {},
          "execution_count": 4
        }
      ],
      "source": [
        "num_nodes6 = 5\n",
        "edges6 = [(0, 1), (1, 2), (2, 3), (2, 4), (4, 2), (3, 0)]\n",
        "num_nodes6, len(edges6)"
      ]
    },
    {
      "cell_type": "markdown",
      "id": "saved-pittsburgh",
      "metadata": {
        "id": "saved-pittsburgh"
      },
      "source": [
        "> **Question**: Define a class to represent weighted and directed graphs in Python."
      ]
    },
    {
      "cell_type": "code",
      "execution_count": null,
      "id": "exempt-stone",
      "metadata": {
        "id": "exempt-stone"
      },
      "outputs": [],
      "source": [
        "import jovian"
      ]
    },
    {
      "cell_type": "code",
      "execution_count": null,
      "id": "chronic-uzbekistan",
      "metadata": {
        "id": "chronic-uzbekistan",
        "outputId": "28ced0e0-4464-496f-e26d-5eb2784c39e6"
      },
      "outputs": [
        {
          "data": {
            "application/javascript": [
              "window.require && require([\"base/js/namespace\"],function(Jupyter){Jupyter.notebook.save_checkpoint()})"
            ],
            "text/plain": [
              "<IPython.core.display.Javascript object>"
            ]
          },
          "metadata": {},
          "output_type": "display_data"
        },
        {
          "name": "stdout",
          "output_type": "stream",
          "text": [
            "[jovian] Attempting to save notebook..\u001b[0m\n",
            "[jovian] Updating notebook \"aakashns/python-graph-algorithms\" on https://jovian.ai/\u001b[0m\n",
            "[jovian] Uploading notebook..\u001b[0m\n",
            "[jovian] Capturing environment..\u001b[0m\n",
            "[jovian] Committed successfully! https://jovian.ai/aakashns/python-graph-algorithms\u001b[0m\n"
          ]
        },
        {
          "data": {
            "text/plain": [
              "'https://jovian.ai/aakashns/python-graph-algorithms'"
            ]
          },
          "execution_count": 14,
          "metadata": {},
          "output_type": "execute_result"
        }
      ],
      "source": [
        "jovian.commit()"
      ]
    },
    {
      "cell_type": "markdown",
      "id": "posted-peripheral",
      "metadata": {
        "id": "posted-peripheral"
      },
      "source": [
        "## Shortest Paths\n",
        "\n",
        "\n",
        "> **Question**: Write a function to find the length of the shortest path between two nodes in a weighted directed graph.\n",
        "\n",
        "<img src=\"https://i.imgur.com/Zn5cUkO.png\" width=\"480\">\n",
        "\n",
        "\n",
        "**Dijkstra's algorithm (Wikipedia)**:\n",
        "\n",
        "![](https://upload.wikimedia.org/wikipedia/commons/5/57/Dijkstra_Animation.gif)\n",
        "\n",
        "1. Mark all nodes unvisited. Create a set of all the unvisited nodes called the unvisited set.\n",
        "2. Assign to every node a tentative distance value: set it to zero for our initial node and to infinity for all other nodes. Set the initial node as current.[16]\n",
        "3. For the current node, consider all of its unvisited neighbours and calculate their tentative distances through the current node. Compare the newly calculated tentative distance to the current assigned value and assign the smaller one. For example, if the current node A is marked with a distance of 6, and the edge connecting it with a neighbour B has length 2, then the distance to B through A will be 6 + 2 = 8. If B was previously marked with a distance greater than 8 then change it to 8. Otherwise, the current value will be kept.\n",
        "4. When we are done considering all of the unvisited neighbours of the current node, mark the current node as visited and remove it from the unvisited set. A visited node will never be checked again.\n",
        "5. If the destination node has been marked visited (when planning a route between two specific nodes) or if the smallest tentative distance among the nodes in the unvisited set is infinity (when planning a complete traversal; occurs when there is no connection between the initial node and remaining unvisited nodes), then stop. The algorithm has finished.\n",
        "6. Otherwise, select the unvisited node that is marked with the smallest tentative distance, set it as the new \"current node\", and go back to step 3."
      ]
    },
    {
      "cell_type": "code",
      "execution_count": null,
      "id": "certain-today",
      "metadata": {
        "id": "certain-today"
      },
      "outputs": [],
      "source": [
        "def update_distances(graph, current, distance, parent=None):\n",
        "    \"\"\"Update the distances of the current node's neighbors\"\"\"\n",
        "    neighbors = graph.data[current]\n",
        "    weights = graph.weight[current]\n",
        "    for i, node in enumerate(neighbors):\n",
        "        weight = weights[i]\n",
        "        if distance[current] + weight < distance[node]:\n",
        "            distance[node] = distance[current] + weight\n",
        "            if parent:\n",
        "                parent[node] = current\n",
        "\n",
        "def pick_next_node(distance, visited):\n",
        "    \"\"\"Pick the next univisited node at the smallest distance\"\"\"\n",
        "    min_distance = float('inf')\n",
        "    min_node = None\n",
        "    for node in range(len(distance)):\n",
        "        if not visited[node] and distance[node] < min_distance:\n",
        "            min_node = node\n",
        "            min_distance = distance[node]\n",
        "    return min_node"
      ]
    },
    {
      "cell_type": "code",
      "execution_count": null,
      "id": "adopted-creek",
      "metadata": {
        "colab": {
          "base_uri": "https://localhost:8080/"
        },
        "id": "adopted-creek",
        "outputId": "1e8548a3-c4cc-439c-f62c-d778f973bf74"
      },
      "outputs": [
        {
          "output_type": "execute_result",
          "data": {
            "text/plain": [
              "(6, 7)"
            ]
          },
          "metadata": {},
          "execution_count": 6
        }
      ],
      "source": [
        "num_nodes7 = 6\n",
        "edges7 = [(0, 1, 4), (0, 2, 2), (1, 2, 5), (1, 3, 10), (2, 4, 3), (4, 3, 4), (3, 5, 11)]\n",
        "num_nodes7, len(edges7)"
      ]
    },
    {
      "cell_type": "code",
      "execution_count": null,
      "id": "right-kenya",
      "metadata": {
        "id": "right-kenya"
      },
      "outputs": [],
      "source": []
    },
    {
      "cell_type": "markdown",
      "id": "coordinate-circle",
      "metadata": {
        "id": "coordinate-circle"
      },
      "source": [
        "### Binary Heap\n",
        "\n",
        "A data structure to maintain the running minimum/maximum of a set of numbers, supporting efficient addition/removal.\n",
        "\n",
        "\n",
        "<img src=\"https://i.imgur.com/ABAcM7m.png\" width=\"400\">\n",
        "\n",
        "\n",
        "Heap operations:\n",
        "\n",
        "- Insertion - $O(log N)$\n",
        "- Min/Max - $O(1)$ (depending on type of heap)\n",
        "- Deletion - $O(log N)$\n",
        "- Convert a list to a heap - $O(n)$\n",
        "\n",
        "\n",
        "Python's built-in heap: https://docs.python.org/3/library/heapq.html\n",
        "\n",
        "> **Question**: Implement Dijkstra's shortest path algorithm using the `heap` module from Python. What is the complexity of the algorithm?"
      ]
    },
    {
      "cell_type": "markdown",
      "id": "ethical-marathon",
      "metadata": {
        "id": "ethical-marathon"
      },
      "source": [
        "![](https://i.imgur.com/E2Up1Pk.png)"
      ]
    },
    {
      "cell_type": "markdown",
      "id": "desirable-possibility",
      "metadata": {
        "id": "desirable-possibility"
      },
      "source": [
        "### Input Data"
      ]
    },
    {
      "cell_type": "code",
      "execution_count": null,
      "id": "according-lunch",
      "metadata": {
        "colab": {
          "base_uri": "https://localhost:8080/"
        },
        "id": "according-lunch",
        "outputId": "6e92aba7-918f-421d-c75b-ea85ebd038a7"
      },
      "outputs": [
        {
          "output_type": "execute_result",
          "data": {
            "text/plain": [
              "(5, 7)"
            ]
          },
          "metadata": {},
          "execution_count": 7
        }
      ],
      "source": [
        "num_nodes1 = 5\n",
        "edges1 = [(0, 1), (1, 2), (2, 3), (3, 4), (4, 0), (1, 4), (1, 3)]\n",
        "num_nodes1, len(edges1)"
      ]
    },
    {
      "cell_type": "code",
      "execution_count": null,
      "id": "italian-armor",
      "metadata": {
        "colab": {
          "base_uri": "https://localhost:8080/"
        },
        "id": "italian-armor",
        "outputId": "caeb7d2e-0b65-45c9-9501-6600851507ba"
      },
      "outputs": [
        {
          "output_type": "execute_result",
          "data": {
            "text/plain": [
              "(9, 8)"
            ]
          },
          "metadata": {},
          "execution_count": 8
        }
      ],
      "source": [
        "num_nodes3 = 9\n",
        "edges3 = [(0, 1), (0, 3), (1, 2), (2, 3), (4, 5), (4, 6), (5, 6), (7, 8)]\n",
        "num_nodes3, len(edges3)"
      ]
    },
    {
      "cell_type": "code",
      "execution_count": null,
      "id": "strategic-deposit",
      "metadata": {
        "colab": {
          "base_uri": "https://localhost:8080/"
        },
        "id": "strategic-deposit",
        "outputId": "582eeccd-0659-4cc0-a175-48b9f3cfece9"
      },
      "outputs": [
        {
          "output_type": "execute_result",
          "data": {
            "text/plain": [
              "(9, 10)"
            ]
          },
          "metadata": {},
          "execution_count": 9
        }
      ],
      "source": [
        "num_nodes5 = 9\n",
        "edges5 = [(0, 1, 3), (0, 3, 2), (0, 8, 4), (1, 7, 4), (2, 7, 2), (2, 3, 6), \n",
        "          (2, 5, 1), (3, 4, 1), (4, 8, 8), (5, 6, 8)]\n",
        "\n",
        "num_nodes5, len(edges5)"
      ]
    },
    {
      "cell_type": "code",
      "execution_count": null,
      "id": "broke-hungarian",
      "metadata": {
        "colab": {
          "base_uri": "https://localhost:8080/"
        },
        "id": "broke-hungarian",
        "outputId": "b500008e-7d33-4e41-b163-52180472f578"
      },
      "outputs": [
        {
          "output_type": "execute_result",
          "data": {
            "text/plain": [
              "(5, 6)"
            ]
          },
          "metadata": {},
          "execution_count": 10
        }
      ],
      "source": [
        "# Directed graph\n",
        "num_nodes6 = 5\n",
        "edges6 = [(0, 1), (1, 2), (2, 3), (2, 4), (4, 2), (3, 0)]\n",
        "num_nodes6, len(edges6)"
      ]
    },
    {
      "cell_type": "code",
      "execution_count": null,
      "id": "instructional-sarah",
      "metadata": {
        "colab": {
          "base_uri": "https://localhost:8080/"
        },
        "id": "instructional-sarah",
        "outputId": "5af5ff69-47f0-4bdc-b72c-ac51c42c19f8"
      },
      "outputs": [
        {
          "output_type": "execute_result",
          "data": {
            "text/plain": [
              "(6, 7)"
            ]
          },
          "metadata": {},
          "execution_count": 11
        }
      ],
      "source": [
        "num_nodes7 = 6\n",
        "edges7 = [(0, 1, 4), (0, 2, 2), (1, 2, 5), (1, 3, 10), (2, 4, 3), (4, 3, 4), (3, 5, 11)]\n",
        "num_nodes7, len(edges7)"
      ]
    },
    {
      "cell_type": "markdown",
      "id": "homeless-hawaii",
      "metadata": {
        "id": "homeless-hawaii"
      },
      "source": [
        "### Adjacency List"
      ]
    },
    {
      "cell_type": "code",
      "execution_count": null,
      "id": "promising-atlantic",
      "metadata": {
        "id": "promising-atlantic"
      },
      "outputs": [],
      "source": [
        "class Graph:\n",
        "    def __init__(self, num_nodes, edges):\n",
        "        self.data = [[] for _ in range(num_nodes)]\n",
        "        for v1, v2 in edges:\n",
        "            self.data[v1].append(v2)\n",
        "            self.data[v2].append(v1)\n",
        "            \n",
        "    def __repr__(self):\n",
        "        return \"\\n\".join([\"{} : {}\".format(i, neighbors) for (i, neighbors) in enumerate(self.data)])\n",
        "\n",
        "    def __str__(self):\n",
        "        return repr(self)"
      ]
    },
    {
      "cell_type": "code",
      "execution_count": null,
      "id": "buried-brake",
      "metadata": {
        "id": "buried-brake"
      },
      "outputs": [],
      "source": [
        "g1 = Graph(num_nodes1, edges1)"
      ]
    },
    {
      "cell_type": "code",
      "execution_count": null,
      "id": "honey-tension",
      "metadata": {
        "colab": {
          "base_uri": "https://localhost:8080/"
        },
        "id": "honey-tension",
        "outputId": "c7c9829c-5dac-482a-99f2-7806697df861"
      },
      "outputs": [
        {
          "output_type": "execute_result",
          "data": {
            "text/plain": [
              "0 : [1, 4]\n",
              "1 : [0, 2, 4, 3]\n",
              "2 : [1, 3]\n",
              "3 : [2, 4, 1]\n",
              "4 : [3, 0, 1]"
            ]
          },
          "metadata": {},
          "execution_count": 14
        }
      ],
      "source": [
        "g1"
      ]
    },
    {
      "cell_type": "markdown",
      "id": "fifty-portland",
      "metadata": {
        "id": "fifty-portland"
      },
      "source": [
        "### Breadth First Search\n",
        "\n",
        "Complexity $O(m + n)$"
      ]
    },
    {
      "cell_type": "code",
      "execution_count": null,
      "id": "hairy-technique",
      "metadata": {
        "id": "hairy-technique"
      },
      "outputs": [],
      "source": [
        "def bfs(graph, source):\n",
        "    visited = [False] * len(graph.data)\n",
        "    queue = []\n",
        "    \n",
        "    visited[source] = True    \n",
        "    queue.append(source)\n",
        "    i = 0\n",
        "    \n",
        "    while i < len(queue):\n",
        "        for v in graph.data[queue[i]]:\n",
        "            if not visited[v]:\n",
        "                visited[v] = True\n",
        "                queue.append(v)\n",
        "        i += 1\n",
        "        \n",
        "    return queue"
      ]
    },
    {
      "cell_type": "code",
      "execution_count": null,
      "id": "deluxe-trust",
      "metadata": {
        "colab": {
          "base_uri": "https://localhost:8080/"
        },
        "id": "deluxe-trust",
        "outputId": "be3817d1-f882-4893-b5ae-78d591e5e3f8"
      },
      "outputs": [
        {
          "output_type": "execute_result",
          "data": {
            "text/plain": [
              "[3, 2, 4, 1, 0]"
            ]
          },
          "metadata": {},
          "execution_count": 16
        }
      ],
      "source": [
        "bfs(g1, 3)"
      ]
    },
    {
      "cell_type": "markdown",
      "id": "active-simon",
      "metadata": {
        "id": "active-simon"
      },
      "source": [
        "### Depth First Search"
      ]
    },
    {
      "cell_type": "code",
      "execution_count": null,
      "id": "august-passage",
      "metadata": {
        "id": "august-passage"
      },
      "outputs": [],
      "source": [
        "def dfs(graph, source):\n",
        "    visited = [False] * len(graph.data)\n",
        "    stack = [source]\n",
        "    result = []\n",
        "    \n",
        "    while len(stack) > 0:\n",
        "        current = stack.pop()\n",
        "        if not visited[current]:\n",
        "            result.append(current)\n",
        "            visited[current] = True\n",
        "            for v in graph.data[current]:\n",
        "                stack.append(v)\n",
        "                \n",
        "    return result"
      ]
    },
    {
      "cell_type": "code",
      "execution_count": null,
      "id": "coordinate-public",
      "metadata": {
        "id": "coordinate-public",
        "outputId": "27ea1fd2-cda0-4385-8942-8e664fa5c236"
      },
      "outputs": [
        {
          "data": {
            "text/plain": [
              "[0, 4, 1, 3, 2]"
            ]
          },
          "execution_count": 45,
          "metadata": {},
          "output_type": "execute_result"
        }
      ],
      "source": [
        "dfs(g1, 0)"
      ]
    },
    {
      "cell_type": "markdown",
      "id": "lasting-directory",
      "metadata": {
        "id": "lasting-directory"
      },
      "source": [
        "### Directed and Weighted Graph"
      ]
    },
    {
      "cell_type": "code",
      "execution_count": null,
      "id": "olympic-bridge",
      "metadata": {
        "id": "olympic-bridge"
      },
      "outputs": [],
      "source": [
        "class Graph:\n",
        "    def __init__(self, num_nodes, edges, directed=False):\n",
        "        self.data = [[] for _ in range(num_nodes)]\n",
        "        self.weight = [[] for _ in range(num_nodes)]\n",
        "        \n",
        "        self.directed = directed\n",
        "        self.weighted = len(edges) > 0 and len(edges[0]) == 3\n",
        "            \n",
        "        for e in edges:\n",
        "            self.data[e[0]].append(e[1])\n",
        "            if self.weighted:\n",
        "                self.weight[e[0]].append(e[2])\n",
        "            \n",
        "            if not directed:\n",
        "                self.data[e[1]].append(e[0])\n",
        "                if self.weighted:\n",
        "                    self.data[e[1]].append(e[2])\n",
        "                \n",
        "    def __repr__(self):\n",
        "        result = \"\"\n",
        "        for i in range(len(self.data)):\n",
        "            pairs = list(zip(self.data[i], self.weight[i]))\n",
        "            result += \"{}: {}\\n\".format(i, pairs)\n",
        "        return result\n",
        "\n",
        "    def __str__(self):\n",
        "        return repr(self)"
      ]
    },
    {
      "cell_type": "code",
      "execution_count": null,
      "id": "monthly-vatican",
      "metadata": {
        "id": "monthly-vatican"
      },
      "outputs": [],
      "source": [
        "g7 = Graph(num_nodes7, edges7, directed=True)"
      ]
    },
    {
      "cell_type": "code",
      "execution_count": null,
      "id": "entertaining-soundtrack",
      "metadata": {
        "colab": {
          "base_uri": "https://localhost:8080/"
        },
        "id": "entertaining-soundtrack",
        "outputId": "4045e0a4-ad0b-4de9-eb26-d84555b141da"
      },
      "outputs": [
        {
          "output_type": "execute_result",
          "data": {
            "text/plain": [
              "0: [(1, 4), (2, 2)]\n",
              "1: [(2, 5), (3, 10)]\n",
              "2: [(4, 3)]\n",
              "3: [(5, 11)]\n",
              "4: [(3, 4)]\n",
              "5: []"
            ]
          },
          "metadata": {},
          "execution_count": 20
        }
      ],
      "source": [
        "g7"
      ]
    },
    {
      "cell_type": "code",
      "execution_count": null,
      "id": "related-senator",
      "metadata": {
        "colab": {
          "base_uri": "https://localhost:8080/"
        },
        "id": "related-senator",
        "outputId": "943ab7cc-e074-4d78-8dbc-02959a3d23a2"
      },
      "outputs": [
        {
          "output_type": "execute_result",
          "data": {
            "text/plain": [
              "[[4, 2], [5, 10], [3], [11], [4], []]"
            ]
          },
          "metadata": {},
          "execution_count": 21
        }
      ],
      "source": [
        "g7.weight"
      ]
    },
    {
      "cell_type": "markdown",
      "id": "confident-rochester",
      "metadata": {
        "id": "confident-rochester"
      },
      "source": [
        "Shortest Path - Dijkstra's Algorithm"
      ]
    },
    {
      "cell_type": "code",
      "execution_count": null,
      "id": "pursuant-bedroom",
      "metadata": {
        "id": "pursuant-bedroom"
      },
      "outputs": [],
      "source": [
        "def update_distances(graph, current, distance, parent=None):\n",
        "    \"\"\"Update the distances of the current node's neighbors\"\"\"\n",
        "    neighbors = graph.data[current]\n",
        "    weights = graph.weight[current]\n",
        "    for i, node in enumerate(neighbors):\n",
        "        weight = weights[i]\n",
        "        if distance[current] + weight < distance[node]:\n",
        "            distance[node] = distance[current] + weight\n",
        "            if parent:\n",
        "                parent[node] = current\n",
        "\n",
        "def pick_next_node(distance, visited):\n",
        "    \"\"\"Pick the next univisited node at the smallest distance\"\"\"\n",
        "    min_distance = float('inf')\n",
        "    min_node = None\n",
        "    for node in range(len(distance)):\n",
        "        if not visited[node] and distance[node] < min_distance:\n",
        "            min_node = node\n",
        "            min_distance = distance[node]\n",
        "    return min_node\n",
        "        \n",
        "def shortest_path(graph, source, dest):\n",
        "    \"\"\"Find the length of the shortest path between source and destination\"\"\"\n",
        "    visited = [False] * len(graph.data)\n",
        "    distance = [float('inf')] * len(graph.data)\n",
        "    parent = [None] * len(graph.data)\n",
        "    queue = []\n",
        "    idx = 0\n",
        "    \n",
        "    queue.append(source)\n",
        "    distance[source] = 0\n",
        "    visited[source] = True\n",
        "    \n",
        "    while idx < len(queue) and not visited[dest]:\n",
        "        current = queue[idx]\n",
        "        update_distances(graph, current, distance, parent)\n",
        "        \n",
        "        next_node = pick_next_node(distance, visited)\n",
        "        if next_node is not None:\n",
        "            visited[next_node] = True\n",
        "            queue.append(next_node)\n",
        "        idx += 1\n",
        "        \n",
        "    return distance[dest], distance, parent"
      ]
    },
    {
      "cell_type": "markdown",
      "id": "celtic-tension",
      "metadata": {
        "id": "celtic-tension"
      },
      "source": [
        "<img src=\"https://i.imgur.com/Zn5cUkO.png\" width=\"400\">"
      ]
    },
    {
      "cell_type": "code",
      "execution_count": null,
      "id": "grand-barbados",
      "metadata": {
        "id": "grand-barbados",
        "outputId": "ae34b47f-7684-4a8e-ff56-fde5ab003c36"
      },
      "outputs": [
        {
          "data": {
            "text/plain": [
              "(20, [0, 4, 2, 9, 5, 20], [None, 0, 0, 4, 2, 3])"
            ]
          },
          "execution_count": 84,
          "metadata": {},
          "output_type": "execute_result"
        }
      ],
      "source": [
        "shortest_path(g7, 0, 5)"
      ]
    },
    {
      "cell_type": "code",
      "execution_count": null,
      "id": "international-motor",
      "metadata": {
        "id": "international-motor"
      },
      "outputs": [],
      "source": []
    }
  ],
  "metadata": {
    "kernelspec": {
      "display_name": "Python 3",
      "language": "python",
      "name": "python3"
    },
    "language_info": {
      "codemirror_mode": {
        "name": "ipython",
        "version": 3
      },
      "file_extension": ".py",
      "mimetype": "text/x-python",
      "name": "python",
      "nbconvert_exporter": "python",
      "pygments_lexer": "ipython3",
      "version": "3.6.12"
    },
    "colab": {
      "provenance": []
    }
  },
  "nbformat": 4,
  "nbformat_minor": 5
}